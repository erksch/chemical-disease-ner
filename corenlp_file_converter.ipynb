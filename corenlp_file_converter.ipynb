{
 "cells": [
  {
   "cell_type": "code",
   "execution_count": 4,
   "metadata": {},
   "outputs": [
    {
     "name": "stderr",
     "output_type": "stream",
     "text": [
      "[nltk_data] Downloading package punkt to /home/marcel/nltk_data...\n",
      "[nltk_data]   Unzipping tokenizers/punkt.zip.\n"
     ]
    },
    {
     "data": {
      "text/plain": [
       "True"
      ]
     },
     "execution_count": 4,
     "metadata": {},
     "output_type": "execute_result"
    }
   ],
   "source": [
    "import xml.dom.minidom\n",
    "import xml.etree.ElementTree as ET\n",
    "from utils import process_dataset_xml\n",
    "import nltk\n",
    "nltk.download('punkt')"
   ]
  },
  {
   "cell_type": "code",
   "execution_count": 23,
   "metadata": {},
   "outputs": [],
   "source": [
    "trainFilePath = \"data/CDR_Data/CDR.Corpus.v010516/CDR_TrainingSet.BioC.xml\"\n",
    "testFilePath = \"data/CDR_Data/CDR.Corpus.v010516/CDR_TestSet.BioC.xml\"\n",
    "train = open(r\"corenlp.train\",\"w+\") \n",
    "test = open(r\"corenlp.test\",\"w+\") \n",
    "writeCoreNLPFormat(train, trainFilePath)\n",
    "writeCoreNLPFormat(test, testFilePath)"
   ]
  },
  {
   "cell_type": "code",
   "execution_count": 22,
   "metadata": {},
   "outputs": [],
   "source": [
    "def writeCoreNLPFormat(file, xmlfilepath):\n",
    "    for sentence in process_dataset_xml(xmlfilepath):\n",
    "        for token in sentence:\n",
    "            line = token[0] + \" \" +token[1] +\"\\n\"\n",
    "            file.write(line)\n",
    "    file.close()"
   ]
  },
  {
   "cell_type": "code",
   "execution_count": null,
   "metadata": {},
   "outputs": [],
   "source": []
  }
 ],
 "metadata": {
  "kernelspec": {
   "display_name": "Python 3.7.5 64-bit ('venv': venv)",
   "language": "python",
   "name": "python37564bitvenvvenv02f1140224384c1e860a26c44af4e5f4"
  },
  "language_info": {
   "codemirror_mode": {
    "name": "ipython",
    "version": 3
   },
   "file_extension": ".py",
   "mimetype": "text/x-python",
   "name": "python",
   "nbconvert_exporter": "python",
   "pygments_lexer": "ipython3",
   "version": "3.7.5"
  }
 },
 "nbformat": 4,
 "nbformat_minor": 4
}
